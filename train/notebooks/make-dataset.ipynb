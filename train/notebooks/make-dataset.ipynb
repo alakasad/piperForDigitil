{
 "cells": [
  {
   "cell_type": "code",
   "execution_count": 1,
   "id": "977fb967-922a-4e45-9f3f-909a9c132037",
   "metadata": {},
   "outputs": [],
   "source": [
    "import os\n",
    "import pandas as pd\n",
    "\n",
    "from sklearn.model_selection import train_test_split"
   ]
  },
  {
   "cell_type": "markdown",
   "id": "94998331-9926-4373-b315-155f95bd606a",
   "metadata": {},
   "source": [
    "## subtitles"
   ]
  },
  {
   "cell_type": "code",
   "execution_count": 2,
   "id": "a5b4e30a-8972-4244-b352-0efadd3343e3",
   "metadata": {},
   "outputs": [],
   "source": [
    "subtitles_file = \"prompts-dilnavoz.ssml\""
   ]
  },
  {
   "cell_type": "code",
   "execution_count": 3,
   "id": "7be8f81d-f840-4b49-94d3-6f305726a82c",
   "metadata": {},
   "outputs": [],
   "source": [
    "with open(subtitles_file) as stf:\n",
    "    st = stf.read()"
   ]
  },
  {
   "cell_type": "code",
   "execution_count": 4,
   "id": "0a8929f7-3ed6-4ef5-9ca6-00a56db54605",
   "metadata": {},
   "outputs": [],
   "source": [
    "subtitles = [item.strip(\"\\\"|\\'\").lower() for item in st.split(\"</s>\\n<s>\")]\n",
    "\n",
    "subtitles[0] = subtitles[0].lstrip('<speak xml:lang=\"uz\">\\n<s>\"')\n",
    "subtitles[-1] = subtitles[-1].rstrip('</s>\\n</speak>')"
   ]
  },
  {
   "cell_type": "code",
   "execution_count": null,
   "id": "cae25b78-e410-4f58-ab7e-31abe470c3e1",
   "metadata": {},
   "outputs": [],
   "source": []
  },
  {
   "cell_type": "markdown",
   "id": "b615b711-8f3e-4bdb-81eb-3e856529402f",
   "metadata": {},
   "source": [
    "## wavs"
   ]
  },
  {
   "cell_type": "code",
   "execution_count": 5,
   "id": "a81c90f5-6b7e-4c72-abe5-5044bfeb3033",
   "metadata": {},
   "outputs": [],
   "source": [
    "# wav_count = 3386\n",
    "# wav_titles = [str(i).zfill(2) for i in range(1, wav_count)]"
   ]
  },
  {
   "cell_type": "code",
   "execution_count": 6,
   "id": "5be83905-5c23-4096-a0f8-96d74a4b46a3",
   "metadata": {},
   "outputs": [],
   "source": [
    "wavs = os.listdir(\"../dataset/wav\")"
   ]
  },
  {
   "cell_type": "code",
   "execution_count": 7,
   "id": "a1748849-18c9-48b6-a24f-491521cb0821",
   "metadata": {},
   "outputs": [],
   "source": [
    "wav_titles = [str(wav).zfill(2) for wav in sorted([int(wav.rstrip(\".wav\")) for wav in wavs])]"
   ]
  },
  {
   "cell_type": "markdown",
   "id": "a895742c-ca57-41b6-a510-0d228ec7a9a1",
   "metadata": {},
   "source": [
    "## Make a dataframe"
   ]
  },
  {
   "cell_type": "code",
   "execution_count": 8,
   "id": "9a4118aa-fac2-4996-bbff-3e4199f550c8",
   "metadata": {},
   "outputs": [],
   "source": [
    "dataset = pd.DataFrame(data={1: wav_titles, 2: subtitles})"
   ]
  },
  {
   "cell_type": "code",
   "execution_count": 10,
   "id": "84661f2a-7110-4b30-a47f-c942bee8e613",
   "metadata": {},
   "outputs": [],
   "source": [
    "dataset.to_csv(\"../dataset/metadata.csv\", index=None, header=None, sep=\"|\")"
   ]
  },
  {
   "cell_type": "code",
   "execution_count": 11,
   "id": "e620ff64-6c86-44fc-ad85-8bc53a724f6f",
   "metadata": {},
   "outputs": [],
   "source": [
    "train, test = train_test_split(dataset, test_size=0.05)"
   ]
  },
  {
   "cell_type": "code",
   "execution_count": 12,
   "id": "622cfd55-775d-4d0b-aded-f2cc952630bf",
   "metadata": {},
   "outputs": [],
   "source": [
    "train.to_csv(\"../dataset/metadata_train.csv\", index=None, header=None)"
   ]
  },
  {
   "cell_type": "code",
   "execution_count": 13,
   "id": "8783f8ef-05b5-4105-96e0-88c74d557381",
   "metadata": {},
   "outputs": [],
   "source": [
    "test.to_csv(\"../dataset/metadata_test.csv\", index=None, header=None)"
   ]
  },
  {
   "cell_type": "code",
   "execution_count": null,
   "id": "903cafc3-c70f-42c7-912b-83370e87f422",
   "metadata": {},
   "outputs": [],
   "source": []
  },
  {
   "cell_type": "markdown",
   "id": "cca46229-fdf8-40bc-85ba-5065b9f0c446",
   "metadata": {},
   "source": [
    "## Sampling"
   ]
  },
  {
   "cell_type": "code",
   "execution_count": 68,
   "id": "0bb3e80c-ff06-453b-bcb7-fec3c311dd4f",
   "metadata": {
    "scrolled": true
   },
   "outputs": [],
   "source": [
    "import librosa\n",
    "import soundfile as sf\n",
    "\n",
    "wav_path = \"../dataset/wav\"\n",
    "wav_new_path = \"../dataset/wav_22050\"\n",
    "tsr = 22050\n",
    "\n",
    "for wav in os.listdir(wav_path):\n",
    "    data, sr = librosa.load(f\"{wav_path}/{wav}\", sr=tsr)\n",
    "    sf.write(f\"{wav_new_path}/{wav}\", data, samplerate=tsr)"
   ]
  },
  {
   "cell_type": "code",
   "execution_count": null,
   "id": "93d57641-bf0b-4bf1-abee-99d7351906b2",
   "metadata": {},
   "outputs": [],
   "source": []
  }
 ],
 "metadata": {
  "kernelspec": {
   "display_name": "Python 3 (ipykernel)",
   "language": "python",
   "name": "python3"
  },
  "language_info": {
   "codemirror_mode": {
    "name": "ipython",
    "version": 3
   },
   "file_extension": ".py",
   "mimetype": "text/x-python",
   "name": "python",
   "nbconvert_exporter": "python",
   "pygments_lexer": "ipython3",
   "version": "3.11.6"
  }
 },
 "nbformat": 4,
 "nbformat_minor": 5
}
